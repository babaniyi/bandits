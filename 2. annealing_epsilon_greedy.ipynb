{
 "cells": [
  {
   "cell_type": "code",
   "execution_count": 13,
   "id": "1e350781",
   "metadata": {},
   "outputs": [],
   "source": [
    "%matplotlib inline\n",
    "\n",
    "import random\n",
    "import math\n",
    "import pandas as pd\n",
    "from matplotlib import pyplot as plt"
   ]
  },
  {
   "cell_type": "code",
   "execution_count": 2,
   "id": "9f5fdb5e",
   "metadata": {},
   "outputs": [],
   "source": [
    "random.seed(1)"
   ]
  },
  {
   "cell_type": "code",
   "execution_count": 5,
   "id": "02010651",
   "metadata": {},
   "outputs": [],
   "source": [
    "import random\n",
    "\n",
    "def ind_max(x):\n",
    "    max_value = max(x)\n",
    "    max_keys = [k for k, v in enumerate(x) if v == max_value]\n",
    "    return random.choice(max_keys)\n",
    "\n",
    "\n",
    "class AnnealingEpsilonGreedy():\n",
    "    def __init__(self, counts, values):\n",
    "        self.counts = counts\n",
    "        self.values = values\n",
    "        return\n",
    "\n",
    "    def initialize(self, n_arms):\n",
    "        self.counts = [0 for col in range(n_arms)]\n",
    "        self.values = [0.0 for col in range(n_arms)]\n",
    "        return\n",
    "\n",
    "    def select_arm(self):\n",
    "        t = sum(self.counts) + 1\n",
    "        epsilon = 1 / math.log(t + 0.0000001)\n",
    "\n",
    "        if random.random() > epsilon:\n",
    "            return ind_max(self.values)\n",
    "        else:\n",
    "            return random.randrange(len(self.values))\n",
    "\n",
    "    def update(self, chosen_arm, reward):\n",
    "        self.counts[chosen_arm] = self.counts[chosen_arm] + 1\n",
    "        n = self.counts[chosen_arm]\n",
    "\n",
    "        value = self.values[chosen_arm]\n",
    "        new_value = ((n - 1) / float(n)) * value + (1 / float(n)) * reward\n",
    "        self.values[chosen_arm] = new_value\n",
    "        return\n"
   ]
  },
  {
   "cell_type": "code",
   "execution_count": 6,
   "id": "9e906243",
   "metadata": {},
   "outputs": [],
   "source": [
    "class BernoulliArm():\n",
    "    def __init__(self, p):\n",
    "        self.p = p\n",
    "    def draw(self):\n",
    "        if random.random() > self.p:\n",
    "            return 0.0\n",
    "        else:\n",
    "            return 1.0"
   ]
  },
  {
   "cell_type": "code",
   "execution_count": 7,
   "id": "1f0f840e",
   "metadata": {},
   "outputs": [],
   "source": [
    "def test_algorithm(algo, arms, num_sims, horizon):\n",
    "    chosen_arms = [0.0 for i in range(num_sims * horizon)]\n",
    "    rewards = [0.0 for i in range(num_sims * horizon)]\n",
    "    cumulative_rewards = [0.0 for i in range(num_sims * horizon)]\n",
    "    sim_nums = [0.0 for i in range(num_sims * horizon)]\n",
    "    times = [0.0 for i in range(num_sims * horizon)]\n",
    "    \n",
    "    for sim in range(num_sims):\n",
    "        sim = sim + 1\n",
    "        algo.initialize(len(arms))\n",
    "        for t in range(horizon):\n",
    "            t = t + 1\n",
    "            index = (sim - 1) * horizon + t - 1\n",
    "            sim_nums[index] = sim\n",
    "            times[index] = t\n",
    "            chosen_arm = algo.select_arm()\n",
    "            chosen_arms[index] = chosen_arm\n",
    "            reward = arms[chosen_arms[index]].draw()\n",
    "            rewards[index] = reward\n",
    "            if t == 1:\n",
    "                cumulative_rewards[index] = reward\n",
    "            else:\n",
    "                cumulative_rewards[index] = cumulative_rewards[index - 1] + reward\n",
    "            algo.update(chosen_arm, reward)\n",
    "    return [sim_nums, times, chosen_arms, rewards, cumulative_rewards]"
   ]
  },
  {
   "cell_type": "code",
   "execution_count": 17,
   "id": "48e39f36",
   "metadata": {},
   "outputs": [],
   "source": [
    "def simulate_tests(means=[0.1, 0.1, 0.1, 0.1, 0.9],\n",
    "                   filename=\"anneal_greedy_standard_results.tsv\",\n",
    "                   num_sims= 5000, horizon=250):\n",
    "    \n",
    "    n_arms = len(means)\n",
    "    arms = [BernoulliArm(mu) for mu in means]\n",
    "    best_arm = ind_max(means)\n",
    "    print(\"Best arm is \" + str(ind_max(means)))\n",
    "\n",
    "    f = open(filename, \"w\")\n",
    "\n",
    "    algo = AnnealingEpsilonGreedy([], [])\n",
    "    algo.initialize(n_arms)\n",
    "    results = test_algorithm(algo, arms, num_sims, horizon)\n",
    "    \n",
    "    for i in range(len(results[0])):\n",
    "        #f.write(str(epsilon) + \"\\t\")\n",
    "        f.write(\"\\t\".join([str(results[j][i]) for j in range(len(results))]) + \"\\n\")\n",
    "    f.close()\n",
    "    \n",
    "    # Read this \n",
    "    df = pd.read_csv('./anneal_greedy_standard_results.tsv', sep='\\t', header=None, \n",
    "                     names=[\"Sim\", \"T\", \"ChosenArm\", \"Reward\", \"CumulativeReward\"])\n",
    "    \n",
    "    return df, best_arm"
   ]
  },
  {
   "cell_type": "markdown",
   "id": "686e3cfc",
   "metadata": {},
   "source": [
    "# Visualization"
   ]
  },
  {
   "cell_type": "markdown",
   "id": "be073026",
   "metadata": {},
   "source": [
    "## Probability of choosing best arm over time"
   ]
  },
  {
   "cell_type": "code",
   "execution_count": 43,
   "id": "5ab5a5fa",
   "metadata": {},
   "outputs": [],
   "source": [
    "def plot_prob_best_arm(df, best_arm):\n",
    "    df = df.copy()\n",
    "    xseries = df[df['ChosenArm']==best_arm].groupby(['T'])['ChosenArm'].count().to_frame()\n",
    "    xseries['ChosenArm'] = xseries['ChosenArm']/5000\n",
    "    xseries.plot( ylabel='Probability of selecting best arm', xlabel='Time', figsize=(15,8))\n"
   ]
  },
  {
   "cell_type": "markdown",
   "id": "97e8181b",
   "metadata": {},
   "source": [
    "## Average reward over time"
   ]
  },
  {
   "cell_type": "code",
   "execution_count": 20,
   "id": "9daf2a8e",
   "metadata": {},
   "outputs": [],
   "source": [
    "def plot_avg_reward(df):\n",
    "    df = df.copy()\n",
    "    fig, ax = plt.subplots(figsize=(15,8))\n",
    "    xseries = df.groupby(['T'])['Reward'].mean().unstack().plot(ax=ax)\n",
    "    xseries.set_ylabel(\"Average reward\")\n",
    "    xseries.set_xlabel(\"Time\")"
   ]
  },
  {
   "cell_type": "markdown",
   "id": "2ac7bd49",
   "metadata": {},
   "source": [
    "## Cumulative reward over time"
   ]
  },
  {
   "cell_type": "code",
   "execution_count": 21,
   "id": "eee6b616",
   "metadata": {},
   "outputs": [],
   "source": [
    "def plot_cumulative_reward(df):\n",
    "    df = df.copy()\n",
    "    fig, ax = plt.subplots(figsize=(15,8))\n",
    "    xseries = df.groupby(['T'])['CumulativeReward'].mean().unstack().plot(ax=ax)\n",
    "    xseries.set_ylabel(\"Cumulative reward\")\n",
    "    xseries.set_xlabel(\"Time\")"
   ]
  },
  {
   "cell_type": "markdown",
   "id": "f355c8df",
   "metadata": {},
   "source": [
    "## Example"
   ]
  },
  {
   "cell_type": "code",
   "execution_count": 44,
   "id": "35cd83f6",
   "metadata": {},
   "outputs": [
    {
     "name": "stdout",
     "output_type": "stream",
     "text": [
      "Best arm is 4\n"
     ]
    },
    {
     "data": {
      "image/png": "[encoded data removed]",
      "text/plain": [
       "<Figure size 1080x576 with 1 Axes>"
      ]
     },
     "metadata": {
      "needs_background": "light"
     },
     "output_type": "display_data"
    }
   ],
   "source": [
    "df, best_arm = simulate_tests()\n",
    "\n",
    "plot_prob_best_arm(df, best_arm)\n",
    "#plot_avg_reward(df)\n",
    "#plot_cumulative_reward(df)"
   ]
  },
  {
   "cell_type": "markdown",
   "id": "e5cbca9a",
   "metadata": {},
   "source": [
    "# Exercises"
   ]
  },
  {
   "cell_type": "markdown",
   "id": "9b056d6d",
   "metadata": {},
   "source": [
    "## Only 2 arms"
   ]
  },
  {
   "cell_type": "code",
   "execution_count": null,
   "id": "02361b9a",
   "metadata": {},
   "outputs": [],
   "source": [
    "# With only two arms\n",
    "df, best_arm = simulate_tests(means=[0.1, 0.9])\n",
    "\n",
    "plot_prob_best_arm(df, best_arm)\n",
    "plot_avg_reward(df)\n",
    "plot_cumulative_reward(df)"
   ]
  },
  {
   "cell_type": "markdown",
   "id": "48487543",
   "metadata": {},
   "source": [
    "## 200 arms"
   ]
  },
  {
   "cell_type": "code",
   "execution_count": null,
   "id": "9f3dcf81",
   "metadata": {},
   "outputs": [],
   "source": [
    "means = [0.1 for x in range(199)] + [0.9]\n",
    "df, best_arm = simulate_tests(means=means)\n",
    "\n",
    "plot_prob_best_arm(df, best_arm)\n",
    "plot_avg_reward(df)\n",
    "plot_cumulative_reward(df)"
   ]
  },
  {
   "cell_type": "markdown",
   "id": "a5fdf30f",
   "metadata": {},
   "source": [
    "## When all arms have probabilities close to 0"
   ]
  },
  {
   "cell_type": "code",
   "execution_count": null,
   "id": "e6b20e34",
   "metadata": {},
   "outputs": [],
   "source": [
    "means = [0.05, 0.06, 0.07, 0.08, 0.09, 0.1]\n",
    "df, best_arm = simulate_tests(means=means)\n",
    "\n",
    "plot_prob_best_arm(df, best_arm)\n",
    "plot_avg_reward(df)\n",
    "plot_cumulative_reward(df)"
   ]
  }
 ],
 "metadata": {
  "kernelspec": {
   "display_name": "Python 3 (ipykernel)",
   "language": "python",
   "name": "python3"
  },
  "language_info": {
   "codemirror_mode": {
    "name": "ipython",
    "version": 3
   },
   "file_extension": ".py",
   "mimetype": "text/x-python",
   "name": "python",
   "nbconvert_exporter": "python",
   "pygments_lexer": "ipython3",
   "version": "3.8.5"
  }
 },
 "nbformat": 4,
 "nbformat_minor": 5
}
